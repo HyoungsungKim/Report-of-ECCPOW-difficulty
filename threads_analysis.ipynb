{
 "cells": [
  {
   "cell_type": "code",
   "execution_count": 1,
   "metadata": {},
   "outputs": [],
   "source": [
    "from datetime import datetime as dt\n",
    "import pandas as pd\n",
    "import matplotlib.pyplot as plt\n",
    "import numpy as np\n",
    "import regress_with_conf_interval as re"
   ]
  },
  {
   "cell_type": "code",
   "execution_count": 2,
   "metadata": {},
   "outputs": [],
   "source": [
    "df_list = []\n",
    "for i in [0, 3]:\n",
    "    for j in [45, 60, 75, 90]:\n",
    "        file_name = f'./data/threads_test/difficulty_{i}_threads{j}/elapseTime.csv' \n",
    "        df = pd.read_csv(file_name)\n",
    "        df_list.append(df)"
   ]
  },
  {
   "cell_type": "code",
   "execution_count": 3,
   "metadata": {},
   "outputs": [],
   "source": [
    "for i in range(len(df_list)):\n",
    "    for idx, elapsed_time in enumerate(df_list[i].elapsed_time):\n",
    "        #print(\"Elasped time : \", elapsed_time)\n",
    "        if elapsed_time.find('h') != -1:\n",
    "            hour, elapsed_time = elapsed_time.split('h')\n",
    "        else:\n",
    "            hour = 0.0\n",
    "\n",
    "        if elapsed_time.find('m') != -1 and elapsed_time.find('ms') == -1:\n",
    "            minute, elapsed_time = elapsed_time.split('m')\n",
    "        else:\n",
    "            minute = 0.0\n",
    "\n",
    "        if elapsed_time.find('s') != -1 and elapsed_time.find('ms') == -1:\n",
    "            second, elapsed_time = elapsed_time.split('s')\n",
    "        else:   \n",
    "            second = 0.0\n",
    "\n",
    "        if elapsed_time.find('ms') != -1:\n",
    "            ms, elapsed_time = elapsed_time.split('ms')\n",
    "        else:\n",
    "            ms = 0.0\n",
    "        \n",
    "        # print(\"hour : \", float(hour))\n",
    "        # print(\"minute : \", float(minute))\n",
    "        # print(\"second : \", float(second))\n",
    "        # print(\"ms : \", float(ms))\n",
    "\n",
    "        df_list[i].elapsed_time[idx] = str(float(hour) * 3600 + float(minute) * 60 + float(second) + float(ms) / 100)"
   ]
  },
  {
   "cell_type": "code",
   "execution_count": 4,
   "metadata": {},
   "outputs": [
    {
     "output_type": "execute_result",
     "data": {
      "text/plain": "0       11.313612798\n1       23.272238786\n2        6.207996282\n3       13.532946908\n4       11.572586425\n            ...     \n3593    59.870150884\n3594    55.934437835\n3595    22.658780671\n3596    33.437937353\n3597    19.891820436\nName: elapsed_time, Length: 3598, dtype: object"
     },
     "metadata": {},
     "execution_count": 4
    }
   ],
   "source": [
    "x = df_list[0]['block_height']\n",
    "y = df_list[0]['elapsed_time']\n",
    "\n",
    "frame = pd.Series(y, index=list(x - 1))\n",
    "frame"
   ]
  },
  {
   "cell_type": "code",
   "execution_count": null,
   "metadata": {},
   "outputs": [],
   "source": [
    "plt.rcParams[\"figure.figsize\"] = (10,50)\n",
    "for i in range(len(df_list)):\n",
    "    x = df_list[i]['block_height']\n",
    "    frame = df_list[i]['elapsed_time'].astype(float)\n",
    "    fig = plt.figure()\n",
    "    ax = fig.add_subplot(11,1,i+1)    \n",
    "    mean = pd.Series(frame.mean(), index=list(x))\n",
    "    ax.set_title(f\"Difficulty {i}\")\n",
    "    ax.set_xlabel(\"# of blocks\")\n",
    "    ax.set_ylabel(\"Block generation time(sec)\")\n",
    "    ax.plot(frame)\n",
    "    ax.plot(x-1, mean, label=f\"mean={np.array(mean)[0]:.4f} (sec)\")\n",
    "    \n",
    "    textstr = '\\n'.join((\n",
    "        r'mean = %.4f' % (frame.mean()),\n",
    "        r'var  = %.4f' % (frame.var()),\n",
    "        r'std  = %.4f' % (frame.std()))\n",
    "    )\n",
    "    textbox = AnchoredText(textstr, loc=1)\n",
    "    ax.add_artist(textbox)\n",
    "\n",
    "    plt.legend(loc=\"upper left\")\n"
   ]
  }
 ],
 "metadata": {
  "language_info": {
   "codemirror_mode": {
    "name": "ipython",
    "version": 3
   },
   "file_extension": ".py",
   "mimetype": "text/x-python",
   "name": "python",
   "nbconvert_exporter": "python",
   "pygments_lexer": "ipython3",
   "version": "3.8.3-final"
  },
  "orig_nbformat": 2,
  "kernelspec": {
   "name": "python38364bitde428ffac79042b692d6a251b0b83de6",
   "display_name": "Python 3.8.3 64-bit"
  }
 },
 "nbformat": 4,
 "nbformat_minor": 2
}